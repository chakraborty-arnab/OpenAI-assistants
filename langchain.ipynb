{
 "cells": [
  {
   "cell_type": "code",
   "execution_count": 35,
   "id": "21ef59ae",
   "metadata": {},
   "outputs": [],
   "source": [
    "# pip install -qU langchain-openai"
   ]
  },
  {
   "cell_type": "code",
   "execution_count": 1,
   "id": "91cbe24e",
   "metadata": {},
   "outputs": [],
   "source": [
    "from langchain_community.chat_message_histories import ChatMessageHistory"
   ]
  },
  {
   "cell_type": "code",
   "execution_count": 37,
   "id": "a317b0e0",
   "metadata": {},
   "outputs": [],
   "source": [
    "import os\n",
    "from dotenv import load_dotenv\n",
    "from langchain_openai import ChatOpenAI\n",
    "from langchain_core.messages import HumanMessage, AIMessage\n",
    "from langchain_core.prompts import ChatPromptTemplate"
   ]
  },
  {
   "cell_type": "code",
   "execution_count": 4,
   "id": "4c6f53fb",
   "metadata": {},
   "outputs": [
    {
     "data": {
      "text/plain": [
       "True"
      ]
     },
     "execution_count": 4,
     "metadata": {},
     "output_type": "execute_result"
    }
   ],
   "source": [
    "load_dotenv()"
   ]
  },
  {
   "cell_type": "code",
   "execution_count": 5,
   "id": "4ae3777a",
   "metadata": {},
   "outputs": [],
   "source": [
    "chat = ChatOpenAI(model=\"gpt-4o-mini\",temperature = 0)"
   ]
  },
  {
   "cell_type": "code",
   "execution_count": 7,
   "id": "d918941b",
   "metadata": {},
   "outputs": [],
   "source": [
    "prompt = ChatPromptTemplate.from_messages([\n",
    "        (\"placeholder\", \"{messages}\")]\n",
    ")\n",
    "\n",
    "chain = prompt | chat"
   ]
  },
  {
   "cell_type": "code",
   "execution_count": 9,
   "id": "c42e5d8a",
   "metadata": {},
   "outputs": [],
   "source": [
    "chat_history = ChatMessageHistory()"
   ]
  },
  {
   "cell_type": "code",
   "execution_count": 10,
   "id": "2c11163e",
   "metadata": {},
   "outputs": [],
   "source": [
    "input1 = \"Solve for x in the equation: 3x + 11 = 14\""
   ]
  },
  {
   "cell_type": "code",
   "execution_count": 11,
   "id": "a736087d",
   "metadata": {},
   "outputs": [],
   "source": [
    "chat_history.add_user_message(input1)"
   ]
  },
  {
   "cell_type": "code",
   "execution_count": 12,
   "id": "3467cef1",
   "metadata": {},
   "outputs": [],
   "source": [
    "response = chain.invoke(\n",
    "    {\n",
    "        \"messages\": chat_history.messages,\n",
    "    }\n",
    ")"
   ]
  },
  {
   "cell_type": "code",
   "execution_count": 13,
   "id": "60e648bd",
   "metadata": {},
   "outputs": [],
   "source": [
    "chat_history.add_ai_message(response)"
   ]
  },
  {
   "cell_type": "code",
   "execution_count": 14,
   "id": "d4681615",
   "metadata": {},
   "outputs": [],
   "source": [
    "input2 = \"Now get the value of y from the equation y = 2x\""
   ]
  },
  {
   "cell_type": "code",
   "execution_count": 15,
   "id": "cf4e0383",
   "metadata": {},
   "outputs": [],
   "source": [
    "chat_history.add_user_message(input2)"
   ]
  },
  {
   "cell_type": "code",
   "execution_count": 17,
   "id": "5a89219d",
   "metadata": {},
   "outputs": [],
   "source": [
    "response2 = chain.invoke(\n",
    "    {\n",
    "        \"messages\": chat_history.messages,\n",
    "    }\n",
    ")"
   ]
  },
  {
   "cell_type": "code",
   "execution_count": 21,
   "id": "9b9ce255",
   "metadata": {},
   "outputs": [],
   "source": [
    "chat_history.add_ai_message(response)"
   ]
  },
  {
   "cell_type": "code",
   "execution_count": 24,
   "id": "7197ff1c",
   "metadata": {},
   "outputs": [
    {
     "data": {
      "text/plain": [
       "4"
      ]
     },
     "execution_count": 24,
     "metadata": {},
     "output_type": "execute_result"
    }
   ],
   "source": [
    "len(chat_history.messages)"
   ]
  },
  {
   "cell_type": "code",
   "execution_count": 30,
   "id": "0e3778c5",
   "metadata": {},
   "outputs": [
    {
     "data": {
      "text/plain": [
       "'Solve for x in the equation: 3x + 11 = 14'"
      ]
     },
     "execution_count": 30,
     "metadata": {},
     "output_type": "execute_result"
    }
   ],
   "source": [
    "chat_history.messages[0].content"
   ]
  },
  {
   "cell_type": "code",
   "execution_count": 35,
   "id": "cffa135d",
   "metadata": {},
   "outputs": [
    {
     "data": {
      "text/plain": [
       "[HumanMessage(content='Solve for x in the equation: 3x + 11 = 14', additional_kwargs={}, response_metadata={}),\n",
       " AIMessage(content='To solve the equation \\\\( 3x + 11 = 14 \\\\), follow these steps:\\n\\n1. Subtract 11 from both sides of the equation:\\n   \\\\[\\n   3x + 11 - 11 = 14 - 11\\n   \\\\]\\n   This simplifies to:\\n   \\\\[\\n   3x = 3\\n   \\\\]\\n\\n2. Next, divide both sides by 3:\\n   \\\\[\\n   \\\\frac{3x}{3} = \\\\frac{3}{3}\\n   \\\\]\\n   This simplifies to:\\n   \\\\[\\n   x = 1\\n   \\\\]\\n\\nThus, the solution is \\\\( x = 1 \\\\).', additional_kwargs={'refusal': None}, response_metadata={'token_usage': {'completion_tokens': 138, 'prompt_tokens': 23, 'total_tokens': 161, 'completion_tokens_details': {'reasoning_tokens': 0}}, 'model_name': 'gpt-4o-mini-2024-07-18', 'system_fingerprint': 'fp_1bb46167f9', 'finish_reason': 'stop', 'logprobs': None}, id='run-e29c6dcf-d0be-4fd7-8c18-8940d0906e29-0', usage_metadata={'input_tokens': 23, 'output_tokens': 138, 'total_tokens': 161}),\n",
       " HumanMessage(content='Now get the value of y from the equation y = 2x', additional_kwargs={}, response_metadata={}),\n",
       " AIMessage(content='To solve the equation \\\\( 3x + 11 = 14 \\\\), follow these steps:\\n\\n1. Subtract 11 from both sides of the equation:\\n   \\\\[\\n   3x + 11 - 11 = 14 - 11\\n   \\\\]\\n   This simplifies to:\\n   \\\\[\\n   3x = 3\\n   \\\\]\\n\\n2. Next, divide both sides by 3:\\n   \\\\[\\n   \\\\frac{3x}{3} = \\\\frac{3}{3}\\n   \\\\]\\n   This simplifies to:\\n   \\\\[\\n   x = 1\\n   \\\\]\\n\\nThus, the solution is \\\\( x = 1 \\\\).', additional_kwargs={'refusal': None}, response_metadata={'token_usage': {'completion_tokens': 138, 'prompt_tokens': 23, 'total_tokens': 161, 'completion_tokens_details': {'reasoning_tokens': 0}}, 'model_name': 'gpt-4o-mini-2024-07-18', 'system_fingerprint': 'fp_1bb46167f9', 'finish_reason': 'stop', 'logprobs': None}, id='run-e29c6dcf-d0be-4fd7-8c18-8940d0906e29-0', usage_metadata={'input_tokens': 23, 'output_tokens': 138, 'total_tokens': 161})]"
      ]
     },
     "execution_count": 35,
     "metadata": {},
     "output_type": "execute_result"
    }
   ],
   "source": [
    "chat_history.messages"
   ]
  },
  {
   "cell_type": "code",
   "execution_count": 39,
   "id": "3dcab081",
   "metadata": {},
   "outputs": [
    {
     "name": "stdout",
     "output_type": "stream",
     "text": [
      "User: Solve for x in the equation: 3x + 11 = 14\n",
      "\n",
      "Assistant: To solve the equation \\( 3x + 11 = 14 \\), follow these steps:\n",
      "\n",
      "1. Subtract 11 from both sides of the equation:\n",
      "   \\[\n",
      "   3x + 11 - 11 = 14 - 11\n",
      "   \\]\n",
      "   This simplifies to:\n",
      "   \\[\n",
      "   3x = 3\n",
      "   \\]\n",
      "\n",
      "2. Next, divide both sides by 3:\n",
      "   \\[\n",
      "   \\frac{3x}{3} = \\frac{3}{3}\n",
      "   \\]\n",
      "   This simplifies to:\n",
      "   \\[\n",
      "   x = 1\n",
      "   \\]\n",
      "\n",
      "Thus, the solution is \\( x = 1 \\).\n",
      "\n",
      "User: Now get the value of y from the equation y = 2x\n",
      "\n",
      "Assistant: To solve the equation \\( 3x + 11 = 14 \\), follow these steps:\n",
      "\n",
      "1. Subtract 11 from both sides of the equation:\n",
      "   \\[\n",
      "   3x + 11 - 11 = 14 - 11\n",
      "   \\]\n",
      "   This simplifies to:\n",
      "   \\[\n",
      "   3x = 3\n",
      "   \\]\n",
      "\n",
      "2. Next, divide both sides by 3:\n",
      "   \\[\n",
      "   \\frac{3x}{3} = \\frac{3}{3}\n",
      "   \\]\n",
      "   This simplifies to:\n",
      "   \\[\n",
      "   x = 1\n",
      "   \\]\n",
      "\n",
      "Thus, the solution is \\( x = 1 \\).\n",
      "\n"
     ]
    }
   ],
   "source": [
    "for chat in chat_history.messages:\n",
    "    if isinstance(chat, HumanMessage):\n",
    "        role = \"User\"\n",
    "    elif isinstance(chat, AIMessage):\n",
    "        role = \"Assistant\"\n",
    "    \n",
    "    content = chat.content\n",
    "    print(f\"{role}: {content}\\n\")"
   ]
  }
 ],
 "metadata": {
  "kernelspec": {
   "display_name": "Python 3 (ipykernel)",
   "language": "python",
   "name": "python3"
  },
  "language_info": {
   "codemirror_mode": {
    "name": "ipython",
    "version": 3
   },
   "file_extension": ".py",
   "mimetype": "text/x-python",
   "name": "python",
   "nbconvert_exporter": "python",
   "pygments_lexer": "ipython3",
   "version": "3.11.5"
  }
 },
 "nbformat": 4,
 "nbformat_minor": 5
}
