{
 "cells": [
  {
   "cell_type": "code",
   "execution_count": 4,
   "id": "3dd450c7",
   "metadata": {},
   "outputs": [],
   "source": [
    "# pip install --upgrade --quiet langchain-openai"
   ]
  },
  {
   "cell_type": "code",
   "execution_count": 5,
   "id": "21ef59ae",
   "metadata": {},
   "outputs": [],
   "source": [
    "# pip install -qU langchain-openai"
   ]
  },
  {
   "cell_type": "code",
   "execution_count": 1,
   "id": "a317b0e0",
   "metadata": {},
   "outputs": [],
   "source": [
    "import os\n",
    "from dotenv import load_dotenv\n",
    "from langchain_openai import ChatOpenAI\n",
    "from langchain_core.messages import HumanMessage, AIMessage\n",
    "from langchain_core.prompts import ChatPromptTemplate\n",
    "from langchain_community.chat_message_histories import ChatMessageHistory"
   ]
  },
  {
   "cell_type": "code",
   "execution_count": 2,
   "id": "4c6f53fb",
   "metadata": {},
   "outputs": [
    {
     "data": {
      "text/plain": [
       "True"
      ]
     },
     "execution_count": 2,
     "metadata": {},
     "output_type": "execute_result"
    }
   ],
   "source": [
    "load_dotenv()"
   ]
  },
  {
   "cell_type": "code",
   "execution_count": 3,
   "id": "4ae3777a",
   "metadata": {},
   "outputs": [],
   "source": [
    "chat = ChatOpenAI(model=\"gpt-4o-mini\",temperature = 0)"
   ]
  },
  {
   "cell_type": "code",
   "execution_count": 4,
   "id": "cebeae55",
   "metadata": {},
   "outputs": [],
   "source": [
    "prompt = ChatPromptTemplate.from_messages([\n",
    "        (\"placeholder\", \"{messages}\")]\n",
    ")\n",
    "\n",
    "chain = prompt | chat"
   ]
  },
  {
   "cell_type": "code",
   "execution_count": 5,
   "id": "66a7835e",
   "metadata": {},
   "outputs": [],
   "source": [
    "chat_history = ChatMessageHistory()"
   ]
  },
  {
   "cell_type": "code",
   "execution_count": 6,
   "id": "b14aef89",
   "metadata": {},
   "outputs": [],
   "source": [
    "input1 = \"Solve for x in the equation: 3x + 11 = 14\""
   ]
  },
  {
   "cell_type": "code",
   "execution_count": 7,
   "id": "bb1d490d",
   "metadata": {},
   "outputs": [],
   "source": [
    "chat_history.add_user_message(input1)"
   ]
  },
  {
   "cell_type": "code",
   "execution_count": 8,
   "id": "f07bdcf4",
   "metadata": {},
   "outputs": [],
   "source": [
    "response = chain.invoke(\n",
    "    {\n",
    "        \"messages\": chat_history.messages,\n",
    "    }\n",
    ")"
   ]
  },
  {
   "cell_type": "code",
   "execution_count": 9,
   "id": "42e65cb4",
   "metadata": {},
   "outputs": [],
   "source": [
    "chat_history.add_ai_message(response)"
   ]
  },
  {
   "cell_type": "code",
   "execution_count": 10,
   "id": "4c50a7a4",
   "metadata": {},
   "outputs": [],
   "source": [
    "input2 = \"Now get the value of y from the equation y = 2x\""
   ]
  },
  {
   "cell_type": "code",
   "execution_count": 11,
   "id": "b32c6f69",
   "metadata": {},
   "outputs": [],
   "source": [
    "chat_history.add_user_message(input2)"
   ]
  },
  {
   "cell_type": "code",
   "execution_count": 15,
   "id": "b31cb4b0",
   "metadata": {},
   "outputs": [],
   "source": [
    "response2 = chain.invoke(\n",
    "    {\n",
    "        \"messages\": chat_history.messages,\n",
    "    }\n",
    ")"
   ]
  },
  {
   "cell_type": "code",
   "execution_count": 16,
   "id": "bddadfb1",
   "metadata": {},
   "outputs": [],
   "source": [
    "chat_history.add_ai_message(response2)"
   ]
  },
  {
   "cell_type": "code",
   "execution_count": 17,
   "id": "e3e750ad",
   "metadata": {},
   "outputs": [
    {
     "name": "stdout",
     "output_type": "stream",
     "text": [
      "User: Solve for x in the equation: 3x + 11 = 14\n",
      "\n",
      "Assistant: To solve the equation \\( 3x + 11 = 14 \\), follow these steps:\n",
      "\n",
      "1. Subtract 11 from both sides of the equation:\n",
      "   \\[\n",
      "   3x + 11 - 11 = 14 - 11\n",
      "   \\]\n",
      "   This simplifies to:\n",
      "   \\[\n",
      "   3x = 3\n",
      "   \\]\n",
      "\n",
      "2. Next, divide both sides by 3:\n",
      "   \\[\n",
      "   \\frac{3x}{3} = \\frac{3}{3}\n",
      "   \\]\n",
      "   This simplifies to:\n",
      "   \\[\n",
      "   x = 1\n",
      "   \\]\n",
      "\n",
      "Thus, the solution is \\( x = 1 \\).\n",
      "\n",
      "User: Now get the value of y from the equation y = 2x\n",
      "\n",
      "Assistant: Given the equation \\( y = 2x \\) and the value of \\( x \\) we found earlier, which is \\( x = 1 \\), we can substitute \\( x \\) into the equation to find \\( y \\):\n",
      "\n",
      "\\[\n",
      "y = 2(1)\n",
      "\\]\n",
      "\n",
      "Calculating this gives:\n",
      "\n",
      "\\[\n",
      "y = 2\n",
      "\\]\n",
      "\n",
      "Thus, the value of \\( y \\) is \\( 2 \\).\n",
      "\n"
     ]
    }
   ],
   "source": [
    "for chat in chat_history.messages:\n",
    "    if isinstance(chat, HumanMessage):\n",
    "        role = \"User\"\n",
    "    elif isinstance(chat, AIMessage):\n",
    "        role = \"Assistant\"\n",
    "    \n",
    "    content = chat.content\n",
    "    print(f\"{role}: {content}\\n\")"
   ]
  },
  {
   "cell_type": "code",
   "execution_count": null,
   "id": "50ae9f24",
   "metadata": {},
   "outputs": [],
   "source": []
  }
 ],
 "metadata": {
  "kernelspec": {
   "display_name": "Python 3 (ipykernel)",
   "language": "python",
   "name": "python3"
  },
  "language_info": {
   "codemirror_mode": {
    "name": "ipython",
    "version": 3
   },
   "file_extension": ".py",
   "mimetype": "text/x-python",
   "name": "python",
   "nbconvert_exporter": "python",
   "pygments_lexer": "ipython3",
   "version": "3.11.5"
  }
 },
 "nbformat": 4,
 "nbformat_minor": 5
}
