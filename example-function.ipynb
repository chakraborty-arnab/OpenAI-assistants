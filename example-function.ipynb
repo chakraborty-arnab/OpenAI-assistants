{
 "cells": [
  {
   "cell_type": "code",
   "execution_count": 1,
   "id": "a8ae1378",
   "metadata": {},
   "outputs": [],
   "source": [
    "import pandas as pd\n",
    "import numpy as np\n",
    "import api\n",
    "import time"
   ]
  },
  {
   "cell_type": "code",
   "execution_count": 2,
   "id": "7b50b8bb",
   "metadata": {},
   "outputs": [],
   "source": [
    "model = \"gpt-4o-mini\""
   ]
  },
  {
   "cell_type": "code",
   "execution_count": 3,
   "id": "2abf3011",
   "metadata": {},
   "outputs": [],
   "source": [
    "df = pd.read_csv(\"multiturn.csv\")"
   ]
  },
  {
   "cell_type": "code",
   "execution_count": 4,
   "id": "2bed6a4c",
   "metadata": {},
   "outputs": [],
   "source": [
    "assistants = []\n",
    "langchains = []"
   ]
  },
  {
   "cell_type": "code",
   "execution_count": 5,
   "id": "05e9bdb2",
   "metadata": {},
   "outputs": [],
   "source": [
    "for i in range(len(df)):\n",
    "    records = df.values[i].tolist()    \n",
    "    questions = [x for x in records if x is not None and not (isinstance(x, float) and np.isnan(x))]\n",
    "    assistant_messages = api.run_assistant_api(model, questions)\n",
    "    assistants.append(assistant_messages)\n",
    "    langchain_messages = api.run_langchain_api(model, questions)\n",
    "    langchains.append(langchain_messages)"
   ]
  },
  {
   "cell_type": "code",
   "execution_count": 6,
   "id": "d086c14d",
   "metadata": {},
   "outputs": [],
   "source": [
    "flattened_data = [message for conversation in assistants for message in conversation]\n",
    "assistant_df = pd.DataFrame(flattened_data)"
   ]
  },
  {
   "cell_type": "code",
   "execution_count": 7,
   "id": "3a02098e",
   "metadata": {},
   "outputs": [],
   "source": [
    "assistant_df['completion_tokens'] = assistant_df['usage'].apply(lambda x: x['completion_tokens'])\n",
    "assistant_df['prompt_tokens'] = assistant_df['usage'].apply(lambda x: x['prompt_tokens'])\n",
    "assistant_df['total_tokens'] = assistant_df['usage'].apply(lambda x: x['total_tokens'])"
   ]
  },
  {
   "cell_type": "code",
   "execution_count": 8,
   "id": "d51558e1",
   "metadata": {},
   "outputs": [],
   "source": [
    "flattened_data = [message for conversation in langchains for message in conversation]\n",
    "langchain_df = pd.DataFrame(flattened_data)"
   ]
  },
  {
   "cell_type": "code",
   "execution_count": 9,
   "id": "2343b0a8",
   "metadata": {},
   "outputs": [],
   "source": [
    "langchain_df['completion_tokens'] = langchain_df['usage'].apply(lambda x: x['completion_tokens'])\n",
    "langchain_df['prompt_tokens'] = langchain_df['usage'].apply(lambda x: x['prompt_tokens'])\n",
    "langchain_df['total_tokens'] = langchain_df['usage'].apply(lambda x: x['total_tokens'])"
   ]
  },
  {
   "cell_type": "code",
   "execution_count": 12,
   "id": "18679a7f",
   "metadata": {},
   "outputs": [
    {
     "data": {
      "text/html": [
       "<div>\n",
       "<style scoped>\n",
       "    .dataframe tbody tr th:only-of-type {\n",
       "        vertical-align: middle;\n",
       "    }\n",
       "\n",
       "    .dataframe tbody tr th {\n",
       "        vertical-align: top;\n",
       "    }\n",
       "\n",
       "    .dataframe thead th {\n",
       "        text-align: right;\n",
       "    }\n",
       "</style>\n",
       "<table border=\"1\" class=\"dataframe\">\n",
       "  <thead>\n",
       "    <tr style=\"text-align: right;\">\n",
       "      <th></th>\n",
       "      <th>content</th>\n",
       "      <th>response_time</th>\n",
       "      <th>usage</th>\n",
       "      <th>completion_tokens</th>\n",
       "      <th>prompt_tokens</th>\n",
       "      <th>total_tokens</th>\n",
       "    </tr>\n",
       "  </thead>\n",
       "  <tbody>\n",
       "    <tr>\n",
       "      <th>0</th>\n",
       "      <td>In the quiet of the evening, as the sun dipped...</td>\n",
       "      <td>2.303499</td>\n",
       "      <td>{'completion_tokens': 34, 'prompt_tokens': 37,...</td>\n",
       "      <td>34</td>\n",
       "      <td>37</td>\n",
       "      <td>71</td>\n",
       "    </tr>\n",
       "    <tr>\n",
       "      <th>1</th>\n",
       "      <td>I apologize for the oversight. The sentence I ...</td>\n",
       "      <td>4.038593</td>\n",
       "      <td>{'completion_tokens': 57, 'prompt_tokens': 80,...</td>\n",
       "      <td>57</td>\n",
       "      <td>80</td>\n",
       "      <td>137</td>\n",
       "    </tr>\n",
       "    <tr>\n",
       "      <th>2</th>\n",
       "      <td>The capital of Japan is Tokyo.</td>\n",
       "      <td>2.323707</td>\n",
       "      <td>{'completion_tokens': 9, 'prompt_tokens': 33, ...</td>\n",
       "      <td>9</td>\n",
       "      <td>33</td>\n",
       "      <td>42</td>\n",
       "    </tr>\n",
       "    <tr>\n",
       "      <th>3</th>\n",
       "      <td>Certainly! Tokyo is a vibrant metropolis that ...</td>\n",
       "      <td>8.085529</td>\n",
       "      <td>{'completion_tokens': 437, 'prompt_tokens': 57...</td>\n",
       "      <td>437</td>\n",
       "      <td>57</td>\n",
       "      <td>494</td>\n",
       "    </tr>\n",
       "    <tr>\n",
       "      <th>4</th>\n",
       "      <td>Regular exercise offers a wide range of benefi...</td>\n",
       "      <td>9.136734</td>\n",
       "      <td>{'completion_tokens': 419, 'prompt_tokens': 36...</td>\n",
       "      <td>419</td>\n",
       "      <td>36</td>\n",
       "      <td>455</td>\n",
       "    </tr>\n",
       "    <tr>\n",
       "      <th>5</th>\n",
       "      <td>The recommended amount of exercise for adults ...</td>\n",
       "      <td>8.425454</td>\n",
       "      <td>{'completion_tokens': 311, 'prompt_tokens': 46...</td>\n",
       "      <td>311</td>\n",
       "      <td>469</td>\n",
       "      <td>780</td>\n",
       "    </tr>\n",
       "    <tr>\n",
       "      <th>6</th>\n",
       "      <td>To solve the equation \\( 2x + 5 = 15 \\), follo...</td>\n",
       "      <td>4.523911</td>\n",
       "      <td>{'completion_tokens': 135, 'prompt_tokens': 41...</td>\n",
       "      <td>135</td>\n",
       "      <td>41</td>\n",
       "      <td>176</td>\n",
       "    </tr>\n",
       "    <tr>\n",
       "      <th>7</th>\n",
       "      <td>To solve for \\( x + y \\), I need the values of...</td>\n",
       "      <td>3.536495</td>\n",
       "      <td>{'completion_tokens': 58, 'prompt_tokens': 187...</td>\n",
       "      <td>58</td>\n",
       "      <td>187</td>\n",
       "      <td>245</td>\n",
       "    </tr>\n",
       "    <tr>\n",
       "      <th>8</th>\n",
       "      <td>12 + 5 equals 17.</td>\n",
       "      <td>2.574963</td>\n",
       "      <td>{'completion_tokens': 10, 'prompt_tokens': 35,...</td>\n",
       "      <td>10</td>\n",
       "      <td>35</td>\n",
       "      <td>45</td>\n",
       "    </tr>\n",
       "    <tr>\n",
       "      <th>9</th>\n",
       "      <td>If you add 2 to 17, you get 19.</td>\n",
       "      <td>2.222593</td>\n",
       "      <td>{'completion_tokens': 16, 'prompt_tokens': 66,...</td>\n",
       "      <td>16</td>\n",
       "      <td>66</td>\n",
       "      <td>82</td>\n",
       "    </tr>\n",
       "    <tr>\n",
       "      <th>10</th>\n",
       "      <td>If you subtract 10 from 19, you get 9.</td>\n",
       "      <td>2.237351</td>\n",
       "      <td>{'completion_tokens': 16, 'prompt_tokens': 99,...</td>\n",
       "      <td>16</td>\n",
       "      <td>99</td>\n",
       "      <td>115</td>\n",
       "    </tr>\n",
       "    <tr>\n",
       "      <th>11</th>\n",
       "      <td>Mumbai is located on the west coast of India. ...</td>\n",
       "      <td>3.440824</td>\n",
       "      <td>{'completion_tokens': 64, 'prompt_tokens': 32,...</td>\n",
       "      <td>64</td>\n",
       "      <td>32</td>\n",
       "      <td>96</td>\n",
       "    </tr>\n",
       "    <tr>\n",
       "      <th>12</th>\n",
       "      <td>The capital of India is New Delhi. It serves a...</td>\n",
       "      <td>10.862178</td>\n",
       "      <td>{'completion_tokens': 56, 'prompt_tokens': 107...</td>\n",
       "      <td>56</td>\n",
       "      <td>107</td>\n",
       "      <td>163</td>\n",
       "    </tr>\n",
       "    <tr>\n",
       "      <th>13</th>\n",
       "      <td>Diverse, vibrant, traditional, modern, artisti...</td>\n",
       "      <td>2.292195</td>\n",
       "      <td>{'completion_tokens': 23, 'prompt_tokens': 180...</td>\n",
       "      <td>23</td>\n",
       "      <td>180</td>\n",
       "      <td>203</td>\n",
       "    </tr>\n",
       "  </tbody>\n",
       "</table>\n",
       "</div>"
      ],
      "text/plain": [
       "                                              content  response_time  \\\n",
       "0   In the quiet of the evening, as the sun dipped...       2.303499   \n",
       "1   I apologize for the oversight. The sentence I ...       4.038593   \n",
       "2                      The capital of Japan is Tokyo.       2.323707   \n",
       "3   Certainly! Tokyo is a vibrant metropolis that ...       8.085529   \n",
       "4   Regular exercise offers a wide range of benefi...       9.136734   \n",
       "5   The recommended amount of exercise for adults ...       8.425454   \n",
       "6   To solve the equation \\( 2x + 5 = 15 \\), follo...       4.523911   \n",
       "7   To solve for \\( x + y \\), I need the values of...       3.536495   \n",
       "8                                   12 + 5 equals 17.       2.574963   \n",
       "9                     If you add 2 to 17, you get 19.       2.222593   \n",
       "10             If you subtract 10 from 19, you get 9.       2.237351   \n",
       "11  Mumbai is located on the west coast of India. ...       3.440824   \n",
       "12  The capital of India is New Delhi. It serves a...      10.862178   \n",
       "13  Diverse, vibrant, traditional, modern, artisti...       2.292195   \n",
       "\n",
       "                                                usage  completion_tokens  \\\n",
       "0   {'completion_tokens': 34, 'prompt_tokens': 37,...                 34   \n",
       "1   {'completion_tokens': 57, 'prompt_tokens': 80,...                 57   \n",
       "2   {'completion_tokens': 9, 'prompt_tokens': 33, ...                  9   \n",
       "3   {'completion_tokens': 437, 'prompt_tokens': 57...                437   \n",
       "4   {'completion_tokens': 419, 'prompt_tokens': 36...                419   \n",
       "5   {'completion_tokens': 311, 'prompt_tokens': 46...                311   \n",
       "6   {'completion_tokens': 135, 'prompt_tokens': 41...                135   \n",
       "7   {'completion_tokens': 58, 'prompt_tokens': 187...                 58   \n",
       "8   {'completion_tokens': 10, 'prompt_tokens': 35,...                 10   \n",
       "9   {'completion_tokens': 16, 'prompt_tokens': 66,...                 16   \n",
       "10  {'completion_tokens': 16, 'prompt_tokens': 99,...                 16   \n",
       "11  {'completion_tokens': 64, 'prompt_tokens': 32,...                 64   \n",
       "12  {'completion_tokens': 56, 'prompt_tokens': 107...                 56   \n",
       "13  {'completion_tokens': 23, 'prompt_tokens': 180...                 23   \n",
       "\n",
       "    prompt_tokens  total_tokens  \n",
       "0              37            71  \n",
       "1              80           137  \n",
       "2              33            42  \n",
       "3              57           494  \n",
       "4              36           455  \n",
       "5             469           780  \n",
       "6              41           176  \n",
       "7             187           245  \n",
       "8              35            45  \n",
       "9              66            82  \n",
       "10             99           115  \n",
       "11             32            96  \n",
       "12            107           163  \n",
       "13            180           203  "
      ]
     },
     "execution_count": 12,
     "metadata": {},
     "output_type": "execute_result"
    }
   ],
   "source": [
    "assistant_df"
   ]
  },
  {
   "cell_type": "code",
   "execution_count": 13,
   "id": "cff070dd",
   "metadata": {},
   "outputs": [
    {
     "data": {
      "text/html": [
       "<div>\n",
       "<style scoped>\n",
       "    .dataframe tbody tr th:only-of-type {\n",
       "        vertical-align: middle;\n",
       "    }\n",
       "\n",
       "    .dataframe tbody tr th {\n",
       "        vertical-align: top;\n",
       "    }\n",
       "\n",
       "    .dataframe thead th {\n",
       "        text-align: right;\n",
       "    }\n",
       "</style>\n",
       "<table border=\"1\" class=\"dataframe\">\n",
       "  <thead>\n",
       "    <tr style=\"text-align: right;\">\n",
       "      <th></th>\n",
       "      <th>content</th>\n",
       "      <th>response_time</th>\n",
       "      <th>usage</th>\n",
       "      <th>completion_tokens</th>\n",
       "      <th>prompt_tokens</th>\n",
       "      <th>total_tokens</th>\n",
       "    </tr>\n",
       "  </thead>\n",
       "  <tbody>\n",
       "    <tr>\n",
       "      <th>0</th>\n",
       "      <td>In the quiet of the evening, as the sun dipped...</td>\n",
       "      <td>0.983372</td>\n",
       "      <td>{'completion_tokens': 31, 'prompt_tokens': 16,...</td>\n",
       "      <td>31</td>\n",
       "      <td>16</td>\n",
       "      <td>47</td>\n",
       "    </tr>\n",
       "    <tr>\n",
       "      <th>1</th>\n",
       "      <td>I apologize for the oversight. The sentence I ...</td>\n",
       "      <td>1.377043</td>\n",
       "      <td>{'completion_tokens': 55, 'prompt_tokens': 58,...</td>\n",
       "      <td>55</td>\n",
       "      <td>58</td>\n",
       "      <td>113</td>\n",
       "    </tr>\n",
       "    <tr>\n",
       "      <th>2</th>\n",
       "      <td>The capital of Japan is Tokyo.</td>\n",
       "      <td>0.650479</td>\n",
       "      <td>{'completion_tokens': 7, 'prompt_tokens': 12, ...</td>\n",
       "      <td>7</td>\n",
       "      <td>12</td>\n",
       "      <td>19</td>\n",
       "    </tr>\n",
       "    <tr>\n",
       "      <th>3</th>\n",
       "      <td>Certainly! Tokyo is a vibrant metropolis that ...</td>\n",
       "      <td>9.521729</td>\n",
       "      <td>{'completion_tokens': 461, 'prompt_tokens': 36...</td>\n",
       "      <td>461</td>\n",
       "      <td>36</td>\n",
       "      <td>497</td>\n",
       "    </tr>\n",
       "    <tr>\n",
       "      <th>4</th>\n",
       "      <td>Regular exercise offers a wide range of benefi...</td>\n",
       "      <td>7.581821</td>\n",
       "      <td>{'completion_tokens': 523, 'prompt_tokens': 15...</td>\n",
       "      <td>523</td>\n",
       "      <td>15</td>\n",
       "      <td>538</td>\n",
       "    </tr>\n",
       "    <tr>\n",
       "      <th>5</th>\n",
       "      <td>The recommended amount of exercise for adults ...</td>\n",
       "      <td>5.279513</td>\n",
       "      <td>{'completion_tokens': 408, 'prompt_tokens': 55...</td>\n",
       "      <td>408</td>\n",
       "      <td>554</td>\n",
       "      <td>962</td>\n",
       "    </tr>\n",
       "    <tr>\n",
       "      <th>6</th>\n",
       "      <td>To solve the equation \\( 2x + 5 = 15 \\), follo...</td>\n",
       "      <td>2.988369</td>\n",
       "      <td>{'completion_tokens': 138, 'prompt_tokens': 20...</td>\n",
       "      <td>138</td>\n",
       "      <td>20</td>\n",
       "      <td>158</td>\n",
       "    </tr>\n",
       "    <tr>\n",
       "      <th>7</th>\n",
       "      <td>To solve for \\( x + y \\), I need specific valu...</td>\n",
       "      <td>1.636065</td>\n",
       "      <td>{'completion_tokens': 57, 'prompt_tokens': 171...</td>\n",
       "      <td>57</td>\n",
       "      <td>171</td>\n",
       "      <td>228</td>\n",
       "    </tr>\n",
       "    <tr>\n",
       "      <th>8</th>\n",
       "      <td>12 + 5 equals 17.</td>\n",
       "      <td>0.942953</td>\n",
       "      <td>{'completion_tokens': 8, 'prompt_tokens': 14, ...</td>\n",
       "      <td>8</td>\n",
       "      <td>14</td>\n",
       "      <td>22</td>\n",
       "    </tr>\n",
       "    <tr>\n",
       "      <th>9</th>\n",
       "      <td>If you add 2 to 17, you get 19.</td>\n",
       "      <td>0.721363</td>\n",
       "      <td>{'completion_tokens': 14, 'prompt_tokens': 45,...</td>\n",
       "      <td>14</td>\n",
       "      <td>45</td>\n",
       "      <td>59</td>\n",
       "    </tr>\n",
       "    <tr>\n",
       "      <th>10</th>\n",
       "      <td>If you subtract 10 from 19, you get 9.</td>\n",
       "      <td>0.614202</td>\n",
       "      <td>{'completion_tokens': 14, 'prompt_tokens': 78,...</td>\n",
       "      <td>14</td>\n",
       "      <td>78</td>\n",
       "      <td>92</td>\n",
       "    </tr>\n",
       "    <tr>\n",
       "      <th>11</th>\n",
       "      <td>Mumbai is located on the west coast of India. ...</td>\n",
       "      <td>1.436246</td>\n",
       "      <td>{'completion_tokens': 83, 'prompt_tokens': 11,...</td>\n",
       "      <td>83</td>\n",
       "      <td>11</td>\n",
       "      <td>94</td>\n",
       "    </tr>\n",
       "    <tr>\n",
       "      <th>12</th>\n",
       "      <td>The capital of India is New Delhi. New Delhi s...</td>\n",
       "      <td>2.353716</td>\n",
       "      <td>{'completion_tokens': 81, 'prompt_tokens': 107...</td>\n",
       "      <td>81</td>\n",
       "      <td>107</td>\n",
       "      <td>188</td>\n",
       "    </tr>\n",
       "    <tr>\n",
       "      <th>13</th>\n",
       "      <td>Diverse, vibrant, traditional, modern, festiva...</td>\n",
       "      <td>0.715054</td>\n",
       "      <td>{'completion_tokens': 21, 'prompt_tokens': 207...</td>\n",
       "      <td>21</td>\n",
       "      <td>207</td>\n",
       "      <td>228</td>\n",
       "    </tr>\n",
       "  </tbody>\n",
       "</table>\n",
       "</div>"
      ],
      "text/plain": [
       "                                              content  response_time  \\\n",
       "0   In the quiet of the evening, as the sun dipped...       0.983372   \n",
       "1   I apologize for the oversight. The sentence I ...       1.377043   \n",
       "2                      The capital of Japan is Tokyo.       0.650479   \n",
       "3   Certainly! Tokyo is a vibrant metropolis that ...       9.521729   \n",
       "4   Regular exercise offers a wide range of benefi...       7.581821   \n",
       "5   The recommended amount of exercise for adults ...       5.279513   \n",
       "6   To solve the equation \\( 2x + 5 = 15 \\), follo...       2.988369   \n",
       "7   To solve for \\( x + y \\), I need specific valu...       1.636065   \n",
       "8                                   12 + 5 equals 17.       0.942953   \n",
       "9                     If you add 2 to 17, you get 19.       0.721363   \n",
       "10             If you subtract 10 from 19, you get 9.       0.614202   \n",
       "11  Mumbai is located on the west coast of India. ...       1.436246   \n",
       "12  The capital of India is New Delhi. New Delhi s...       2.353716   \n",
       "13  Diverse, vibrant, traditional, modern, festiva...       0.715054   \n",
       "\n",
       "                                                usage  completion_tokens  \\\n",
       "0   {'completion_tokens': 31, 'prompt_tokens': 16,...                 31   \n",
       "1   {'completion_tokens': 55, 'prompt_tokens': 58,...                 55   \n",
       "2   {'completion_tokens': 7, 'prompt_tokens': 12, ...                  7   \n",
       "3   {'completion_tokens': 461, 'prompt_tokens': 36...                461   \n",
       "4   {'completion_tokens': 523, 'prompt_tokens': 15...                523   \n",
       "5   {'completion_tokens': 408, 'prompt_tokens': 55...                408   \n",
       "6   {'completion_tokens': 138, 'prompt_tokens': 20...                138   \n",
       "7   {'completion_tokens': 57, 'prompt_tokens': 171...                 57   \n",
       "8   {'completion_tokens': 8, 'prompt_tokens': 14, ...                  8   \n",
       "9   {'completion_tokens': 14, 'prompt_tokens': 45,...                 14   \n",
       "10  {'completion_tokens': 14, 'prompt_tokens': 78,...                 14   \n",
       "11  {'completion_tokens': 83, 'prompt_tokens': 11,...                 83   \n",
       "12  {'completion_tokens': 81, 'prompt_tokens': 107...                 81   \n",
       "13  {'completion_tokens': 21, 'prompt_tokens': 207...                 21   \n",
       "\n",
       "    prompt_tokens  total_tokens  \n",
       "0              16            47  \n",
       "1              58           113  \n",
       "2              12            19  \n",
       "3              36           497  \n",
       "4              15           538  \n",
       "5             554           962  \n",
       "6              20           158  \n",
       "7             171           228  \n",
       "8              14            22  \n",
       "9              45            59  \n",
       "10             78            92  \n",
       "11             11            94  \n",
       "12            107           188  \n",
       "13            207           228  "
      ]
     },
     "execution_count": 13,
     "metadata": {},
     "output_type": "execute_result"
    }
   ],
   "source": [
    "langchain_df"
   ]
  },
  {
   "cell_type": "code",
   "execution_count": 10,
   "id": "61bd58a4",
   "metadata": {},
   "outputs": [
    {
     "data": {
      "text/plain": [
       "response_time          66.004026\n",
       "completion_tokens    1645.000000\n",
       "prompt_tokens        1459.000000\n",
       "total_tokens         3104.000000\n",
       "dtype: float64"
      ]
     },
     "execution_count": 10,
     "metadata": {},
     "output_type": "execute_result"
    }
   ],
   "source": [
    "assistant_df[['response_time','completion_tokens','prompt_tokens','total_tokens']].sum()"
   ]
  },
  {
   "cell_type": "code",
   "execution_count": 11,
   "id": "ce481e84",
   "metadata": {},
   "outputs": [
    {
     "data": {
      "text/plain": [
       "response_time          36.801924\n",
       "completion_tokens    1901.000000\n",
       "prompt_tokens        1344.000000\n",
       "total_tokens         3245.000000\n",
       "dtype: float64"
      ]
     },
     "execution_count": 11,
     "metadata": {},
     "output_type": "execute_result"
    }
   ],
   "source": [
    "langchain_df[['response_time','completion_tokens','prompt_tokens','total_tokens']].sum()"
   ]
  },
  {
   "cell_type": "code",
   "execution_count": 26,
   "id": "37ca154a",
   "metadata": {},
   "outputs": [],
   "source": [
    "match = 0\n",
    "for i in range(len(langchain_df)):\n",
    "    if langchain_df.content[i] == assistant_df.content[i]:\n",
    "        match += 1"
   ]
  },
  {
   "cell_type": "code",
   "execution_count": 27,
   "id": "2fed4d93",
   "metadata": {},
   "outputs": [
    {
     "data": {
      "text/plain": [
       "5"
      ]
     },
     "execution_count": 27,
     "metadata": {},
     "output_type": "execute_result"
    }
   ],
   "source": [
    "match"
   ]
  },
  {
   "cell_type": "code",
   "execution_count": 34,
   "id": "ad9d10ab",
   "metadata": {},
   "outputs": [
    {
     "data": {
      "text/plain": [
       "False"
      ]
     },
     "execution_count": 34,
     "metadata": {},
     "output_type": "execute_result"
    }
   ],
   "source": [
    "langchain_df.content[3] == assistant_df.content[3]"
   ]
  },
  {
   "cell_type": "code",
   "execution_count": 35,
   "id": "45608b20",
   "metadata": {},
   "outputs": [
    {
     "data": {
      "text/plain": [
       "\"Certainly! Tokyo is a vibrant metropolis that blends traditional and modern culture in unique ways. Here are some key aspects of Tokyo's culture:\\n\\n1. **Traditional Arts**: Tokyo is home to various traditional arts, including kabuki (a classical Japanese dance-drama), noh (a form of musical drama), and sumo wrestling. The city also hosts numerous festivals that celebrate these traditions.\\n\\n2. **Cuisine**: Tokyo is renowned for its diverse culinary scene, ranging from street food to Michelin-starred restaurants. Sushi, ramen, tempura, and kaiseki (a multi-course meal) are just a few examples of the city's rich food culture. Tsukiji Outer Market and various izakayas (Japanese pubs) are popular spots for food lovers.\\n\\n3. **Fashion and Pop Culture**: Areas like Harajuku are famous for their youth fashion and subcultures, showcasing everything from avant-garde styles to traditional kimono. Tokyo is also a hub for anime, manga, and video games, with districts like Akihabara dedicated to otaku culture.\\n\\n4. **Architecture**: The city features a mix of traditional and contemporary architecture. Historic sites like the Meiji Shrine and Senso-ji Temple coexist with modern skyscrapers and innovative designs, such as the Tokyo Skytree and the National Art Center.\\n\\n5. **Technology and Innovation**: Tokyo is at the forefront of technology and innovation, with a strong emphasis on robotics, electronics, and digital art. The city's tech districts, like Shibuya and Shinjuku, are known for their cutting-edge developments.\\n\\n6. **Public Spaces and Nature**: Despite being a bustling urban center, Tokyo has many parks and gardens, such as Ueno Park and Shinjuku Gyoen, where residents and visitors can enjoy nature. Cherry blossom season in spring is particularly celebrated, drawing crowds to parks for hanami (flower viewing) picnics.\\n\\n7. **Etiquette and Social Norms**: Japanese culture places a strong emphasis on respect, politeness, and social harmony. Bowing is a common greeting, and there are specific customs related to gift-giving, dining, and public behavior.\\n\\nOverall, Tokyo's culture is a fascinating tapestry that reflects both its rich history and its dynamic, forward-looking spirit.\""
      ]
     },
     "execution_count": 35,
     "metadata": {},
     "output_type": "execute_result"
    }
   ],
   "source": [
    "langchain_df.content[3]"
   ]
  },
  {
   "cell_type": "code",
   "execution_count": 36,
   "id": "2f2f1771",
   "metadata": {},
   "outputs": [
    {
     "data": {
      "text/plain": [
       "\"Certainly! Tokyo is a vibrant metropolis that blends traditional and modern culture in unique ways. Here are some key aspects of Tokyo's culture:\\n\\n1. **Traditional Arts**: Tokyo is home to various traditional arts, including kabuki (a classical Japanese dance-drama), noh (a form of musical drama), and sumo wrestling. The city also hosts numerous festivals that celebrate these traditions.\\n\\n2. **Cuisine**: Tokyo is renowned for its diverse culinary scene, ranging from street food to Michelin-starred restaurants. Sushi, ramen, tempura, and kaiseki (a multi-course meal) are just a few examples of the city's rich food culture.\\n\\n3. **Fashion and Pop Culture**: Areas like Harajuku are famous for their youth fashion and subcultures, showcasing everything from avant-garde styles to traditional kimono. Tokyo is also a hub for anime, manga, and video games, influencing global pop culture.\\n\\n4. **Architecture**: The city features a mix of traditional and contemporary architecture, from ancient temples like Senso-ji to modern skyscrapers like the Tokyo Skytree. This juxtaposition reflects Tokyo's dynamic nature.\\n\\n5. **Technology and Innovation**: As a leading global city, Tokyo is at the forefront of technology and innovation. It is known for its advanced public transportation system, robotics, and cutting-edge electronics.\\n\\n6. **Nature and Parks**: Despite its urban environment, Tokyo has many parks and gardens, such as Ueno Park and Shinjuku Gyoen, where residents and visitors can enjoy nature and seasonal changes, particularly cherry blossoms in spring.\\n\\n7. **Spirituality**: The city is dotted with Shinto shrines and Buddhist temples, such as Meiji Shrine and Zojo-ji Temple, which play an important role in the spiritual life of its residents.\\n\\n8. **Art and Museums**: Tokyo boasts a vibrant art scene with numerous galleries, museums, and art districts. The Tokyo National Museum and the Mori Art Museum are notable institutions showcasing both traditional and contemporary art.\\n\\nOverall, Tokyo's culture is a fascinating blend of the old and the new, making it a unique and dynamic city.\""
      ]
     },
     "execution_count": 36,
     "metadata": {},
     "output_type": "execute_result"
    }
   ],
   "source": [
    "assistant_df.content[3]"
   ]
  },
  {
   "cell_type": "code",
   "execution_count": null,
   "id": "6eab0337",
   "metadata": {},
   "outputs": [],
   "source": []
  }
 ],
 "metadata": {
  "kernelspec": {
   "display_name": "Python 3 (ipykernel)",
   "language": "python",
   "name": "python3"
  },
  "language_info": {
   "codemirror_mode": {
    "name": "ipython",
    "version": 3
   },
   "file_extension": ".py",
   "mimetype": "text/x-python",
   "name": "python",
   "nbconvert_exporter": "python",
   "pygments_lexer": "ipython3",
   "version": "3.11.5"
  }
 },
 "nbformat": 4,
 "nbformat_minor": 5
}
