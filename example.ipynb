{
 "cells": [
  {
   "cell_type": "code",
   "execution_count": 21,
   "id": "8535922b",
   "metadata": {},
   "outputs": [],
   "source": [
    "import pandas as pd"
   ]
  },
  {
   "cell_type": "code",
   "execution_count": 2,
   "id": "c3dc63e6",
   "metadata": {},
   "outputs": [],
   "source": [
    "df = pd.read_csv(\"multi-turn-queries.csv\")"
   ]
  },
  {
   "cell_type": "code",
   "execution_count": 4,
   "id": "00a59ee0",
   "metadata": {},
   "outputs": [],
   "source": [
    "import os\n",
    "import openai\n",
    "from dotenv import load_dotenv\n",
    "load_dotenv()\n",
    "\n",
    "API_KEY = os.getenv(\"OPEN_API_KEY\")\n",
    "openai.api_key = API_KEY\n",
    "client = openai"
   ]
  },
  {
   "cell_type": "code",
   "execution_count": null,
   "id": "74e57b9b",
   "metadata": {},
   "outputs": [],
   "source": [
    "df.head()"
   ]
  },
  {
   "cell_type": "code",
   "execution_count": 9,
   "id": "0f45139e",
   "metadata": {},
   "outputs": [],
   "source": [
    "questions = df.values[0].tolist()"
   ]
  },
  {
   "cell_type": "code",
   "execution_count": 10,
   "id": "70c71a73",
   "metadata": {},
   "outputs": [
    {
     "data": {
      "text/plain": [
       "['Write me a sentence with 25 words ', 'Count the words']"
      ]
     },
     "execution_count": 10,
     "metadata": {},
     "output_type": "execute_result"
    }
   ],
   "source": [
    "questions"
   ]
  },
  {
   "cell_type": "code",
   "execution_count": 11,
   "id": "989a8f70",
   "metadata": {},
   "outputs": [],
   "source": [
    "model = \"gpt-4o-mini\""
   ]
  },
  {
   "cell_type": "code",
   "execution_count": 18,
   "id": "6dfd4cf5",
   "metadata": {},
   "outputs": [],
   "source": [
    "def run_assistant(model, questions):\n",
    "    assistant = client.beta.assistants.create(model = model, temperature = 0)\n",
    "    thread = client.beta.threads.create()\n",
    "\n",
    "    for q in questions:\n",
    "        message = client.beta.threads.messages.create(thread_id = thread.id, role = \"user\", content = q)\n",
    "        run = client.beta.threads.runs.create_and_poll(thread_id = thread.id, assistant_id=assistant.id)\n",
    "        messages = client.beta.threads.messages.list(thread_id=thread.id)\n",
    "        \n",
    "    for message in messages.data[::-1]:\n",
    "        role = message.role\n",
    "        content = message.content[0].text.value\n",
    "        print(f\"{role.capitalize()}: {content}\\n\")\n",
    "        \n",
    "    return messages"
   ]
  },
  {
   "cell_type": "code",
   "execution_count": 30,
   "id": "c967ec12",
   "metadata": {},
   "outputs": [],
   "source": [
    "import json\n",
    "\n",
    "def run_assistant(model, questions):\n",
    "    assistant = client.beta.assistants.create(model=model, temperature=0)\n",
    "    thread = client.beta.threads.create()\n",
    "\n",
    "    for q in questions:\n",
    "        client.beta.threads.messages.create(thread_id=thread.id, role=\"user\", content=q)\n",
    "        client.beta.threads.runs.create_and_poll(thread_id=thread.id, assistant_id=assistant.id)\n",
    "\n",
    "    messages = client.beta.threads.messages.list(thread_id=thread.id)\n",
    "\n",
    "    message_history = []\n",
    "    \n",
    "    for message in messages.data[::-1]:\n",
    "        role = message.role\n",
    "        content = message.content[0].text.value\n",
    "        message_history.append({\n",
    "            \"role\": role.capitalize(),\n",
    "            \"content\": content\n",
    "        })\n",
    "\n",
    "    return message_history"
   ]
  },
  {
   "cell_type": "code",
   "execution_count": 31,
   "id": "2271eced",
   "metadata": {},
   "outputs": [],
   "source": [
    "messages = run_assistant(model, questions)"
   ]
  },
  {
   "cell_type": "code",
   "execution_count": 35,
   "id": "c687faee",
   "metadata": {},
   "outputs": [
    {
     "data": {
      "text/plain": [
       "[{'role': 'User', 'content': 'Write me a sentence with 25 words '},\n",
       " {'role': 'Assistant',\n",
       "  'content': 'In the quiet of the evening, as the sun dipped below the horizon, the stars began to twinkle, creating a magical atmosphere filled with wonder and peace.'},\n",
       " {'role': 'User', 'content': 'Count the words'},\n",
       " {'role': 'Assistant',\n",
       "  'content': \"I apologize for the oversight. The sentence I provided contains 26 words. Here’s a revised sentence with exactly 25 words:\\n\\nAs the sun set behind the mountains, the sky transformed into a canvas of vibrant colors, inspiring everyone to pause and appreciate nature's breathtaking beauty.\"}]"
      ]
     },
     "execution_count": 35,
     "metadata": {},
     "output_type": "execute_result"
    }
   ],
   "source": [
    "messages"
   ]
  },
  {
   "cell_type": "code",
   "execution_count": null,
   "id": "d7231ade",
   "metadata": {},
   "outputs": [],
   "source": []
  }
 ],
 "metadata": {
  "kernelspec": {
   "display_name": "Python 3 (ipykernel)",
   "language": "python",
   "name": "python3"
  },
  "language_info": {
   "codemirror_mode": {
    "name": "ipython",
    "version": 3
   },
   "file_extension": ".py",
   "mimetype": "text/x-python",
   "name": "python",
   "nbconvert_exporter": "python",
   "pygments_lexer": "ipython3",
   "version": "3.11.5"
  }
 },
 "nbformat": 4,
 "nbformat_minor": 5
}
