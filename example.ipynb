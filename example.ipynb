{
 "cells": [
  {
   "cell_type": "code",
   "execution_count": 1,
   "id": "a8ae1378",
   "metadata": {},
   "outputs": [],
   "source": [
    "import pandas as pd\n",
    "import numpy as np"
   ]
  },
  {
   "cell_type": "code",
   "execution_count": 2,
   "id": "2abf3011",
   "metadata": {},
   "outputs": [],
   "source": [
    "df = pd.read_csv(\"multiturn.csv\")"
   ]
  },
  {
   "cell_type": "code",
   "execution_count": 3,
   "id": "ce10c533",
   "metadata": {},
   "outputs": [],
   "source": [
    "import os\n",
    "import openai\n",
    "from dotenv import load_dotenv\n",
    "load_dotenv()\n",
    "\n",
    "API_KEY = os.getenv(\"OPEN_API_KEY\")\n",
    "openai.api_key = API_KEY\n",
    "client = openai"
   ]
  },
  {
   "cell_type": "code",
   "execution_count": 4,
   "id": "8fabdd01",
   "metadata": {},
   "outputs": [],
   "source": [
    "records = df.values[0].tolist()"
   ]
  },
  {
   "cell_type": "code",
   "execution_count": 5,
   "id": "971e679d",
   "metadata": {},
   "outputs": [
    {
     "data": {
      "text/plain": [
       "['Write me a sentence with 25 words ', 'Count the words', nan]"
      ]
     },
     "execution_count": 5,
     "metadata": {},
     "output_type": "execute_result"
    }
   ],
   "source": [
    "records"
   ]
  },
  {
   "cell_type": "code",
   "execution_count": 6,
   "id": "439f8f6d",
   "metadata": {},
   "outputs": [],
   "source": [
    "questions = [x for x in records if x is not None and not (isinstance(x, float) and np.isnan(x))]"
   ]
  },
  {
   "cell_type": "code",
   "execution_count": 7,
   "id": "586e622a",
   "metadata": {},
   "outputs": [
    {
     "data": {
      "text/plain": [
       "['Write me a sentence with 25 words ', 'Count the words']"
      ]
     },
     "execution_count": 7,
     "metadata": {},
     "output_type": "execute_result"
    }
   ],
   "source": [
    "questions"
   ]
  },
  {
   "cell_type": "code",
   "execution_count": 8,
   "id": "413b21f9",
   "metadata": {},
   "outputs": [],
   "source": [
    "model = \"gpt-4o-mini\""
   ]
  },
  {
   "cell_type": "code",
   "execution_count": 9,
   "id": "71298ad8",
   "metadata": {},
   "outputs": [],
   "source": [
    "import os\n",
    "import openai\n",
    "from dotenv import load_dotenv\n",
    "load_dotenv()\n",
    "\n",
    "API_KEY = os.getenv(\"OPEN_API_KEY\")\n",
    "openai.api_key = API_KEY\n",
    "client = openai\n",
    "\n",
    "def run_assistant(model, questions):\n",
    "    assistant = client.beta.assistants.create(model=model, temperature=0)\n",
    "    thread = client.beta.threads.create()\n",
    "\n",
    "    for q in questions:\n",
    "        client.beta.threads.messages.create(thread_id=thread.id, role=\"user\", content=q)\n",
    "        client.beta.threads.runs.create_and_poll(thread_id=thread.id, assistant_id=assistant.id)\n",
    "\n",
    "    messages = client.beta.threads.messages.list(thread_id=thread.id)\n",
    "\n",
    "    message_history = []\n",
    "    \n",
    "    for message in messages.data[::-1]:\n",
    "        role = message.role\n",
    "        content = message.content[0].text.value\n",
    "        message_history.append({\n",
    "            \"role\": role.capitalize(),\n",
    "            \"content\": content\n",
    "        })\n",
    "\n",
    "    return message_history"
   ]
  },
  {
   "cell_type": "code",
   "execution_count": 10,
   "id": "17974fd4",
   "metadata": {},
   "outputs": [],
   "source": [
    "import os\n",
    "from dotenv import load_dotenv\n",
    "from langchain_openai import ChatOpenAI\n",
    "from langchain_core.messages import HumanMessage, AIMessage\n",
    "from langchain_core.prompts import ChatPromptTemplate\n",
    "from langchain_community.chat_message_histories import ChatMessageHistory\n",
    "load_dotenv()\n",
    "\n",
    "def run_langchain_api(model, questions):\n",
    "    \n",
    "    chat = ChatOpenAI(model=model, temperature=0)\n",
    "    prompt = ChatPromptTemplate.from_messages([\n",
    "        (\"placeholder\", \"{messages}\")]\n",
    "    )\n",
    "    chain = prompt | chat\n",
    "    chat_history = ChatMessageHistory()\n",
    "\n",
    "    for q in questions:\n",
    "        chat_history.add_user_message(q)\n",
    "        response = chain.invoke({\"messages\": chat_history.messages})\n",
    "        chat_history.add_ai_message(response.content)  # Use response.content directly\n",
    "\n",
    "    message_history = []\n",
    "\n",
    "    for chat in chat_history.messages:\n",
    "        if isinstance(chat, HumanMessage):\n",
    "            role = \"User\"\n",
    "        elif isinstance(chat, AIMessage):\n",
    "            role = \"Assistant\"\n",
    "\n",
    "        message_history.append({\n",
    "            \"role\": role.capitalize(),\n",
    "            \"content\": chat.content\n",
    "        })\n",
    "\n",
    "    return message_history"
   ]
  },
  {
   "cell_type": "code",
   "execution_count": 11,
   "id": "4f7ac043",
   "metadata": {},
   "outputs": [],
   "source": [
    "assistant_messages = run_assistant(model, questions)"
   ]
  },
  {
   "cell_type": "code",
   "execution_count": 12,
   "id": "2c5c5cc8",
   "metadata": {},
   "outputs": [],
   "source": [
    "langchain_messages = run_langchain_api(model, questions)"
   ]
  },
  {
   "cell_type": "code",
   "execution_count": 13,
   "id": "f821fa2a",
   "metadata": {},
   "outputs": [
    {
     "data": {
      "text/plain": [
       "[{'role': 'User', 'content': 'Write me a sentence with 25 words '},\n",
       " {'role': 'Assistant',\n",
       "  'content': 'In the quiet of the evening, as the sun dipped below the horizon, the stars began to twinkle, creating a magical atmosphere filled with wonder and peace.'},\n",
       " {'role': 'User', 'content': 'Count the words'},\n",
       " {'role': 'Assistant',\n",
       "  'content': \"I apologize for the oversight. The sentence I provided contains 26 words. Here’s a revised sentence with exactly 25 words:\\n\\nAs the sun set behind the mountains, the sky transformed into a canvas of vibrant colors, inspiring everyone to pause and appreciate nature's breathtaking beauty.\"}]"
      ]
     },
     "execution_count": 13,
     "metadata": {},
     "output_type": "execute_result"
    }
   ],
   "source": [
    "assistant_messages"
   ]
  },
  {
   "cell_type": "code",
   "execution_count": 14,
   "id": "116b6a9e",
   "metadata": {},
   "outputs": [
    {
     "data": {
      "text/plain": [
       "[{'role': 'User', 'content': 'Write me a sentence with 25 words '},\n",
       " {'role': 'Assistant',\n",
       "  'content': 'In the quiet of the evening, as the sun dipped below the horizon, the stars began to twinkle, casting a magical glow over the peaceful landscape.'},\n",
       " {'role': 'User', 'content': 'Count the words'},\n",
       " {'role': 'Assistant',\n",
       "  'content': \"I apologize for the oversight. The sentence I provided contains 26 words. Here’s a revised sentence with exactly 25 words:\\n\\nAs the sun set behind the mountains, the sky transformed into a canvas of vibrant colors, inspiring everyone to pause and appreciate nature's breathtaking beauty.\"}]"
      ]
     },
     "execution_count": 14,
     "metadata": {},
     "output_type": "execute_result"
    }
   ],
   "source": [
    "langchain_messages"
   ]
  },
  {
   "cell_type": "code",
   "execution_count": null,
   "id": "47b7e942",
   "metadata": {},
   "outputs": [],
   "source": []
  }
 ],
 "metadata": {
  "kernelspec": {
   "display_name": "Python 3 (ipykernel)",
   "language": "python",
   "name": "python3"
  },
  "language_info": {
   "codemirror_mode": {
    "name": "ipython",
    "version": 3
   },
   "file_extension": ".py",
   "mimetype": "text/x-python",
   "name": "python",
   "nbconvert_exporter": "python",
   "pygments_lexer": "ipython3",
   "version": "3.11.5"
  }
 },
 "nbformat": 4,
 "nbformat_minor": 5
}
