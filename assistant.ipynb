{
 "cells": [
  {
   "cell_type": "code",
   "execution_count": 1,
   "id": "374a6ec0",
   "metadata": {},
   "outputs": [],
   "source": [
    "import os\n",
    "import openai\n",
    "from dotenv import load_dotenv"
   ]
  },
  {
   "cell_type": "code",
   "execution_count": 3,
   "id": "4a76887f",
   "metadata": {},
   "outputs": [
    {
     "data": {
      "text/plain": [
       "True"
      ]
     },
     "execution_count": 3,
     "metadata": {},
     "output_type": "execute_result"
    }
   ],
   "source": [
    "load_dotenv()"
   ]
  },
  {
   "cell_type": "code",
   "execution_count": 4,
   "id": "0d5d9c38",
   "metadata": {},
   "outputs": [],
   "source": [
    "API_KEY = os.getenv(\"OPEN_API_KEY\")\n",
    "openai.api_key = API_KEY\n",
    "client = openai"
   ]
  },
  {
   "cell_type": "code",
   "execution_count": 51,
   "id": "cf2d8287",
   "metadata": {},
   "outputs": [],
   "source": [
    "assistant = client.beta.assistants.create(model = \"gpt-4o-mini\", temperature = 0)"
   ]
  },
  {
   "cell_type": "code",
   "execution_count": 52,
   "id": "45488121",
   "metadata": {},
   "outputs": [],
   "source": [
    "thread = client.beta.threads.create()"
   ]
  },
  {
   "cell_type": "code",
   "execution_count": 53,
   "id": "4a977347",
   "metadata": {},
   "outputs": [],
   "source": [
    "message = client.beta.threads.messages.create(\n",
    "thread_id = thread.id,\n",
    "role = \"user\",\n",
    "content = \"Solve for x in the equation: 3x + 11 = 14\")"
   ]
  },
  {
   "cell_type": "code",
   "execution_count": 54,
   "id": "432f1805",
   "metadata": {},
   "outputs": [],
   "source": [
    "run = client.beta.threads.runs.create_and_poll(\n",
    "thread_id = thread.id,\n",
    "assistant_id=assistant.id)"
   ]
  },
  {
   "cell_type": "code",
   "execution_count": 55,
   "id": "dbbbfb7d",
   "metadata": {},
   "outputs": [],
   "source": [
    "messages = client.beta.threads.messages.list(\n",
    "thread_id=thread.id\n",
    ")"
   ]
  },
  {
   "cell_type": "code",
   "execution_count": 59,
   "id": "521acec4",
   "metadata": {},
   "outputs": [],
   "source": [
    "# print(messages.data[0].content[0].text.value)"
   ]
  },
  {
   "cell_type": "code",
   "execution_count": 60,
   "id": "d8470be7",
   "metadata": {},
   "outputs": [],
   "source": [
    "message = client.beta.threads.messages.create(\n",
    "thread_id = thread.id,\n",
    "role = \"user\",\n",
    "content = \"Now get the value of y from the equation y = 2x\")"
   ]
  },
  {
   "cell_type": "code",
   "execution_count": 61,
   "id": "7cb983a7",
   "metadata": {},
   "outputs": [],
   "source": [
    "run = client.beta.threads.runs.create_and_poll(\n",
    "thread_id = thread.id,\n",
    "assistant_id=assistant.id)"
   ]
  },
  {
   "cell_type": "code",
   "execution_count": 62,
   "id": "344f06b5",
   "metadata": {},
   "outputs": [],
   "source": [
    "messages = client.beta.threads.messages.list(\n",
    "thread_id=thread.id\n",
    ")"
   ]
  },
  {
   "cell_type": "code",
   "execution_count": 63,
   "id": "699a81ac",
   "metadata": {},
   "outputs": [],
   "source": [
    "def print_messages(messages):\n",
    "    for message in messages.data[::-1]:\n",
    "        role = message.role\n",
    "        content = message.content[0].text.value\n",
    "        print(f\"{role.capitalize()}: {content}\\n\")"
   ]
  },
  {
   "cell_type": "code",
   "execution_count": 64,
   "id": "3dceeb20",
   "metadata": {},
   "outputs": [
    {
     "name": "stdout",
     "output_type": "stream",
     "text": [
      "User: Solve for x in the equation: 3x + 11 = 14\n",
      "\n",
      "Assistant: To solve the equation \\( 3x + 11 = 14 \\), follow these steps:\n",
      "\n",
      "1. Subtract 11 from both sides of the equation:\n",
      "   \\[\n",
      "   3x + 11 - 11 = 14 - 11\n",
      "   \\]\n",
      "   This simplifies to:\n",
      "   \\[\n",
      "   3x = 3\n",
      "   \\]\n",
      "\n",
      "2. Next, divide both sides by 3:\n",
      "   \\[\n",
      "   \\frac{3x}{3} = \\frac{3}{3}\n",
      "   \\]\n",
      "   This simplifies to:\n",
      "   \\[\n",
      "   x = 1\n",
      "   \\]\n",
      "\n",
      "Thus, the solution is \\( x = 1 \\).\n",
      "\n",
      "User: Now get the value of y from the equation y = 2x\n",
      "\n",
      "Assistant: To find the value of \\( y \\) from the equation \\( y = 2x \\) using the value of \\( x \\) we found earlier (which is \\( x = 1 \\)), substitute \\( x \\) into the equation:\n",
      "\n",
      "\\[\n",
      "y = 2(1)\n",
      "\\]\n",
      "\n",
      "This simplifies to:\n",
      "\n",
      "\\[\n",
      "y = 2\n",
      "\\]\n",
      "\n",
      "Thus, the value of \\( y \\) is \\( 2 \\).\n",
      "\n"
     ]
    }
   ],
   "source": [
    "print_messages(messages)"
   ]
  },
  {
   "cell_type": "code",
   "execution_count": null,
   "id": "b3411580",
   "metadata": {},
   "outputs": [],
   "source": []
  }
 ],
 "metadata": {
  "kernelspec": {
   "display_name": "Python 3 (ipykernel)",
   "language": "python",
   "name": "python3"
  },
  "language_info": {
   "codemirror_mode": {
    "name": "ipython",
    "version": 3
   },
   "file_extension": ".py",
   "mimetype": "text/x-python",
   "name": "python",
   "nbconvert_exporter": "python",
   "pygments_lexer": "ipython3",
   "version": "3.11.5"
  }
 },
 "nbformat": 4,
 "nbformat_minor": 5
}
